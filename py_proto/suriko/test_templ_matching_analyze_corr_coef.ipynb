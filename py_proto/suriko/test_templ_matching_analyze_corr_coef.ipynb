{
 "cells": [
  {
   "cell_type": "code",
   "execution_count": 1,
   "metadata": {
    "collapsed": true
   },
   "outputs": [
    {
     "name": "stdout",
     "output_type": "stream",
     "text": [
      "aaa\n"
     ]
    },
    {
     "name": "stdout",
     "output_type": "stream",
     "text": [
      "module://ipykernel.pylab.backend_inline\ne:\\programs\\Anaconda3-5.0.1\\lib\\site-packages\\matplotlib\\mpl-data\\matplotlibrc\n"
     ]
    }
   ],
   "source": [
    "import os\n",
    "\n",
    "import matplotlib \n",
    "print(matplotlib.get_backend())\n",
    "print(matplotlib.matplotlib_fname())\n",
    "matplotlib.use('Qt5Agg') \n",
    "#matplotlib.use('TkAgg') \n",
    "import matplotlib.pyplot as plt\n",
    "#%matplotlib inline\n",
    "\n",
    "from suriko.geom_elements import *\n",
    "from suriko.OpenCV_interop import *\n",
    "from suriko.patch_match import *"
   ]
  },
  {
   "cell_type": "code",
   "execution_count": 3,
   "metadata": {
    "collapsed": true
   },
   "outputs": [],
   "source": [
    "os.path.abspath(\".\")"
   ]
  },
  {
   "cell_type": "code",
   "execution_count": 9,
   "metadata": {
    "collapsed": true
   },
   "outputs": [],
   "source": [
    "patch_center = Point2i(178,112)\n",
    "# TODO: where is the host root?\n",
    "out_file_path=\"suriko/interm/feat_x{}_y{}.txt\".format(patch_center.x, patch_center.y)\n",
    "patch_data_dict = LoadPatchMatchDict(out_file_path)"
   ]
  },
  {
   "cell_type": "code",
   "execution_count": 10,
   "metadata": {},
   "outputs": [],
   "source": [
    "corr_coefs=[x.corr_coef for x in patch_data_dict.values() if x.corr_coef != -1]"
   ]
  },
  {
   "cell_type": "code",
   "execution_count": 12,
   "metadata": {
    "collapsed": false
   },
   "outputs": [
    {
     "name": "stdout",
     "output_type": "stream",
     "text": [
      "820\n"
     ]
    }
   ],
   "source": [
    "print(len(corr_coefs))\n",
    "plt.plot(corr_coefs)\n",
    "#plt.hist(corr_coefs)\n",
    "plt.show()"
   ]
  },
  {
   "cell_type": "code",
   "execution_count": 2,
   "metadata": {
    "collapsed": false
   },
   "outputs": [
    {
     "data": {
      "text/plain": [
       "'rawoutput0055.pgm'"
      ]
     },
     "execution_count": 2,
     "metadata": {},
     "output_type": "execute_result"
    }
   ],
   "source": [
    "data_dir = \"E:/distrib/cv/SceneLib/testseqmonoslam/TestSeqMonoSLAM_Decimated\"\n",
    "os.listdir(data_dir)[23]"
   ]
  },
  {
   "cell_type": "code",
   "execution_count": null,
   "metadata": {},
   "outputs": [],
   "source": []
  }
 ],
 "metadata": {
  "kernelspec": {
   "display_name": "Python 2",
   "language": "python",
   "name": "python2"
  },
  "language_info": {
   "codemirror_mode": {
    "name": "ipython",
    "version": 2
   },
   "file_extension": ".py",
   "mimetype": "text/x-python",
   "name": "python",
   "nbconvert_exporter": "python",
   "pygments_lexer": "ipython2",
   "version": "2.7.6"
  }
 },
 "nbformat": 4,
 "nbformat_minor": 0
}
